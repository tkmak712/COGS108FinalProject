{
 "cells": [
  {
   "cell_type": "code",
   "execution_count": null,
   "metadata": {},
   "outputs": [],
   "source": [
    "# Import libraries\n",
    "import pandas as pd\n",
    "import json\n",
    "from random import shuffle"
   ]
  },
  {
   "cell_type": "code",
   "execution_count": null,
   "metadata": {},
   "outputs": [],
   "source": [
    "# Read in the review dataset\n",
    "review_path = \"yelp_dataset/yelp_academic_dataset_review.json\"\n",
    "f = open(review_path, 'r', encoding = 'utf8')\n",
    "\n",
    "# Read in the review dataset into a list\n",
    "review_data = []\n",
    "for l in f:\n",
    "    review_data.append(json.loads(f.readline()))"
   ]
  },
  {
   "cell_type": "code",
   "execution_count": null,
   "metadata": {},
   "outputs": [],
   "source": [
    "# Create lists of 1-star and 5-star reviews\n",
    "one_star_reviews = [r for r in review_data if r['stars'] == 1]\n",
    "five_star_reviews = [r for r in review_data if r['stars'] == 5]"
   ]
  },
  {
   "cell_type": "code",
   "execution_count": null,
   "metadata": {},
   "outputs": [],
   "source": [
    "# Shuffle data and take a subset of the randomized data\n",
    "# Limit to 65000 reviews due to Github file size limits\n",
    "shuffle(one_star_reviews)\n",
    "rand_one_star_reviews = one_star_reviews[:65000]\n",
    "shuffle(five_star_reviews)\n",
    "rand_five_star_reviews = five_star_reviews[:65000]"
   ]
  },
  {
   "cell_type": "code",
   "execution_count": null,
   "metadata": {},
   "outputs": [],
   "source": [
    "# Create text file containing the review text from one star reviews\n",
    "file = open(\"one_star_reviews.txt\", \"w\")\n",
    "for r in rand_one_star_reviews:\n",
    "    file.write(r['text'])\n",
    "file.close()"
   ]
  },
  {
   "cell_type": "code",
   "execution_count": null,
   "metadata": {},
   "outputs": [],
   "source": [
    "# Create text file containing the review text from five star reviews\n",
    "file = open(\"five_star_reviews.txt\", \"w\")\n",
    "for r in rand_five_star_reviews:\n",
    "    file.write(r['text'])\n",
    "file.close()"
   ]
  }
 ],
 "metadata": {
  "kernelspec": {
   "display_name": "Python 3",
   "language": "python",
   "name": "python3"
  },
  "language_info": {
   "codemirror_mode": {
    "name": "ipython",
    "version": 3
   },
   "file_extension": ".py",
   "mimetype": "text/x-python",
   "name": "python",
   "nbconvert_exporter": "python",
   "pygments_lexer": "ipython3",
   "version": "3.7.3"
  }
 },
 "nbformat": 4,
 "nbformat_minor": 2
}
